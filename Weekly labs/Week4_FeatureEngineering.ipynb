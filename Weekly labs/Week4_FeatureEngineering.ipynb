{
 "cells": [
  {
   "cell_type": "code",
   "execution_count": 7,
   "id": "2943a899-9d1a-4c98-b03d-e421d7fa54b1",
   "metadata": {},
   "outputs": [
    {
     "name": "stdout",
     "output_type": "stream",
     "text": [
      "Original data loaded. Shape: (10000, 10)\n"
     ]
    },
    {
     "data": {
      "text/html": [
       "<div>\n",
       "<style scoped>\n",
       "    .dataframe tbody tr th:only-of-type {\n",
       "        vertical-align: middle;\n",
       "    }\n",
       "\n",
       "    .dataframe tbody tr th {\n",
       "        vertical-align: top;\n",
       "    }\n",
       "\n",
       "    .dataframe thead th {\n",
       "        text-align: right;\n",
       "    }\n",
       "</style>\n",
       "<table border=\"1\" class=\"dataframe\">\n",
       "  <thead>\n",
       "    <tr style=\"text-align: right;\">\n",
       "      <th></th>\n",
       "      <th>UDI</th>\n",
       "      <th>Product ID</th>\n",
       "      <th>Type</th>\n",
       "      <th>Air temperature [K]</th>\n",
       "      <th>Process temperature [K]</th>\n",
       "      <th>Rotational speed [rpm]</th>\n",
       "      <th>Torque [Nm]</th>\n",
       "      <th>Tool wear [min]</th>\n",
       "      <th>Target</th>\n",
       "      <th>Failure Type</th>\n",
       "    </tr>\n",
       "  </thead>\n",
       "  <tbody>\n",
       "    <tr>\n",
       "      <th>0</th>\n",
       "      <td>1</td>\n",
       "      <td>M14860</td>\n",
       "      <td>M</td>\n",
       "      <td>298.1</td>\n",
       "      <td>308.6</td>\n",
       "      <td>1551</td>\n",
       "      <td>42.8</td>\n",
       "      <td>0</td>\n",
       "      <td>0</td>\n",
       "      <td>No Failure</td>\n",
       "    </tr>\n",
       "    <tr>\n",
       "      <th>1</th>\n",
       "      <td>2</td>\n",
       "      <td>L47181</td>\n",
       "      <td>L</td>\n",
       "      <td>298.2</td>\n",
       "      <td>308.7</td>\n",
       "      <td>1408</td>\n",
       "      <td>46.3</td>\n",
       "      <td>3</td>\n",
       "      <td>0</td>\n",
       "      <td>No Failure</td>\n",
       "    </tr>\n",
       "  </tbody>\n",
       "</table>\n",
       "</div>"
      ],
      "text/plain": [
       "   UDI Product ID Type  Air temperature [K]  Process temperature [K]  \\\n",
       "0    1     M14860    M                298.1                    308.6   \n",
       "1    2     L47181    L                298.2                    308.7   \n",
       "\n",
       "   Rotational speed [rpm]  Torque [Nm]  Tool wear [min]  Target Failure Type  \n",
       "0                    1551         42.8                0       0   No Failure  \n",
       "1                    1408         46.3                3       0   No Failure  "
      ]
     },
     "metadata": {},
     "output_type": "display_data"
    }
   ],
   "source": [
    "import pandas as pd\n",
    "import numpy as np\n",
    "import matplotlib.pyplot as plt\n",
    "import seaborn as sns\n",
    "\n",
    "# Load ORIGINAL dataset (before any preprocessing)\n",
    "data = pd.read_csv(\"predictive_maintenance.csv\")  # Your raw data\n",
    "print(\"Original data loaded. Shape:\", data.shape)\n",
    "display(data.head(2))"
   ]
  },
  {
   "cell_type": "code",
   "execution_count": 8,
   "id": "fc4bc3d5-49a9-451e-b73f-6e20cb2a8dec",
   "metadata": {},
   "outputs": [
    {
     "name": "stdout",
     "output_type": "stream",
     "text": [
      "New features created:\n"
     ]
    },
    {
     "data": {
      "text/html": [
       "<div>\n",
       "<style scoped>\n",
       "    .dataframe tbody tr th:only-of-type {\n",
       "        vertical-align: middle;\n",
       "    }\n",
       "\n",
       "    .dataframe tbody tr th {\n",
       "        vertical-align: top;\n",
       "    }\n",
       "\n",
       "    .dataframe thead th {\n",
       "        text-align: right;\n",
       "    }\n",
       "</style>\n",
       "<table border=\"1\" class=\"dataframe\">\n",
       "  <thead>\n",
       "    <tr style=\"text-align: right;\">\n",
       "      <th></th>\n",
       "      <th>temp_diff</th>\n",
       "      <th>power</th>\n",
       "      <th>wear_rate</th>\n",
       "    </tr>\n",
       "  </thead>\n",
       "  <tbody>\n",
       "    <tr>\n",
       "      <th>0</th>\n",
       "      <td>10.5</td>\n",
       "      <td>66382.8</td>\n",
       "      <td>0.000</td>\n",
       "    </tr>\n",
       "    <tr>\n",
       "      <th>1</th>\n",
       "      <td>10.5</td>\n",
       "      <td>65190.4</td>\n",
       "      <td>0.003</td>\n",
       "    </tr>\n",
       "    <tr>\n",
       "      <th>2</th>\n",
       "      <td>10.4</td>\n",
       "      <td>74001.2</td>\n",
       "      <td>0.005</td>\n",
       "    </tr>\n",
       "    <tr>\n",
       "      <th>3</th>\n",
       "      <td>10.4</td>\n",
       "      <td>56603.5</td>\n",
       "      <td>0.007</td>\n",
       "    </tr>\n",
       "    <tr>\n",
       "      <th>4</th>\n",
       "      <td>10.5</td>\n",
       "      <td>56320.0</td>\n",
       "      <td>0.009</td>\n",
       "    </tr>\n",
       "  </tbody>\n",
       "</table>\n",
       "</div>"
      ],
      "text/plain": [
       "   temp_diff    power  wear_rate\n",
       "0       10.5  66382.8      0.000\n",
       "1       10.5  65190.4      0.003\n",
       "2       10.4  74001.2      0.005\n",
       "3       10.4  56603.5      0.007\n",
       "4       10.5  56320.0      0.009"
      ]
     },
     "metadata": {},
     "output_type": "display_data"
    }
   ],
   "source": [
    "# 1. Temperature difference (process vs. air)\n",
    "data['temp_diff'] = data['Process temperature [K]'] - data['Air temperature [K]']\n",
    "\n",
    "# 2. Power (rotational speed * torque)\n",
    "data['power'] = data['Rotational speed [rpm]'] * data['Torque [Nm]']\n",
    "\n",
    "# 3. Tool wear rate (wear per minute - placeholder)\n",
    "data['wear_rate'] = data['Tool wear [min]'] / 1000  # Example: assume 1000 mins operational time\n",
    "\n",
    "print(\"New features created:\")\n",
    "display(data[['temp_diff', 'power', 'wear_rate']].head())"
   ]
  },
  {
   "cell_type": "code",
   "execution_count": 9,
   "id": "9467faf0-d396-40d6-930b-61179f39ea28",
   "metadata": {},
   "outputs": [
    {
     "name": "stdout",
     "output_type": "stream",
     "text": [
      "\n",
      "Categorical features:\n"
     ]
    },
    {
     "data": {
      "text/html": [
       "<div>\n",
       "<style scoped>\n",
       "    .dataframe tbody tr th:only-of-type {\n",
       "        vertical-align: middle;\n",
       "    }\n",
       "\n",
       "    .dataframe tbody tr th {\n",
       "        vertical-align: top;\n",
       "    }\n",
       "\n",
       "    .dataframe thead th {\n",
       "        text-align: right;\n",
       "    }\n",
       "</style>\n",
       "<table border=\"1\" class=\"dataframe\">\n",
       "  <thead>\n",
       "    <tr style=\"text-align: right;\">\n",
       "      <th></th>\n",
       "      <th>machine_type</th>\n",
       "      <th>wear_bin</th>\n",
       "    </tr>\n",
       "  </thead>\n",
       "  <tbody>\n",
       "    <tr>\n",
       "      <th>0</th>\n",
       "      <td>M</td>\n",
       "      <td>NaN</td>\n",
       "    </tr>\n",
       "    <tr>\n",
       "      <th>1</th>\n",
       "      <td>L</td>\n",
       "      <td>0-50</td>\n",
       "    </tr>\n",
       "    <tr>\n",
       "      <th>2</th>\n",
       "      <td>L</td>\n",
       "      <td>0-50</td>\n",
       "    </tr>\n",
       "    <tr>\n",
       "      <th>3</th>\n",
       "      <td>L</td>\n",
       "      <td>0-50</td>\n",
       "    </tr>\n",
       "    <tr>\n",
       "      <th>4</th>\n",
       "      <td>L</td>\n",
       "      <td>0-50</td>\n",
       "    </tr>\n",
       "  </tbody>\n",
       "</table>\n",
       "</div>"
      ],
      "text/plain": [
       "  machine_type wear_bin\n",
       "0            M      NaN\n",
       "1            L     0-50\n",
       "2            L     0-50\n",
       "3            L     0-50\n",
       "4            L     0-50"
      ]
     },
     "metadata": {},
     "output_type": "display_data"
    }
   ],
   "source": [
    "# 1. Extract machine type prefix (e.g., 'M' from 'M14860')\n",
    "data['machine_type'] = data['Product ID'].str[0]\n",
    "\n",
    "# 2. Bin tool wear into categories\n",
    "data['wear_bin'] = pd.cut(data['Tool wear [min]'], \n",
    "                         bins=[0, 50, 100, 150, 200, 250],\n",
    "                         labels=['0-50', '51-100', '101-150', '151-200', '201-250'])\n",
    "\n",
    "print(\"\\nCategorical features:\")\n",
    "display(data[['machine_type', 'wear_bin']].head())"
   ]
  },
  {
   "cell_type": "code",
   "execution_count": 10,
   "id": "efb417eb-477e-41c7-b156-e1d34f544a4c",
   "metadata": {},
   "outputs": [
    {
     "name": "stdout",
     "output_type": "stream",
     "text": [
      "\n",
      "Lagged features:\n"
     ]
    },
    {
     "data": {
      "text/html": [
       "<div>\n",
       "<style scoped>\n",
       "    .dataframe tbody tr th:only-of-type {\n",
       "        vertical-align: middle;\n",
       "    }\n",
       "\n",
       "    .dataframe tbody tr th {\n",
       "        vertical-align: top;\n",
       "    }\n",
       "\n",
       "    .dataframe thead th {\n",
       "        text-align: right;\n",
       "    }\n",
       "</style>\n",
       "<table border=\"1\" class=\"dataframe\">\n",
       "  <thead>\n",
       "    <tr style=\"text-align: right;\">\n",
       "      <th></th>\n",
       "      <th>UDI</th>\n",
       "      <th>Torque [Nm]</th>\n",
       "      <th>lag_torque</th>\n",
       "      <th>Rotational speed [rpm]</th>\n",
       "      <th>lag_rpm</th>\n",
       "    </tr>\n",
       "  </thead>\n",
       "  <tbody>\n",
       "    <tr>\n",
       "      <th>0</th>\n",
       "      <td>1</td>\n",
       "      <td>42.8</td>\n",
       "      <td>42.8</td>\n",
       "      <td>1551</td>\n",
       "      <td>1551.0</td>\n",
       "    </tr>\n",
       "    <tr>\n",
       "      <th>1</th>\n",
       "      <td>2</td>\n",
       "      <td>46.3</td>\n",
       "      <td>42.8</td>\n",
       "      <td>1408</td>\n",
       "      <td>1551.0</td>\n",
       "    </tr>\n",
       "    <tr>\n",
       "      <th>2</th>\n",
       "      <td>3</td>\n",
       "      <td>49.4</td>\n",
       "      <td>46.3</td>\n",
       "      <td>1498</td>\n",
       "      <td>1408.0</td>\n",
       "    </tr>\n",
       "  </tbody>\n",
       "</table>\n",
       "</div>"
      ],
      "text/plain": [
       "   UDI  Torque [Nm]  lag_torque  Rotational speed [rpm]  lag_rpm\n",
       "0    1         42.8        42.8                    1551   1551.0\n",
       "1    2         46.3        42.8                    1408   1551.0\n",
       "2    3         49.4        46.3                    1498   1408.0"
      ]
     },
     "metadata": {},
     "output_type": "display_data"
    }
   ],
   "source": [
    "# Sort by UDI (assuming it represents time order)\n",
    "data = data.sort_values('UDI')\n",
    "\n",
    "# Create lagged features (previous row values)\n",
    "data['lag_torque'] = data['Torque [Nm]'].shift(1)\n",
    "data['lag_rpm'] = data['Rotational speed [rpm]'].shift(1)\n",
    "\n",
    "# Fill NaN for first row\n",
    "data.fillna(method='bfill', inplace=True)\n",
    "\n",
    "print(\"\\nLagged features:\")\n",
    "display(data[['UDI', 'Torque [Nm]', 'lag_torque', 'Rotational speed [rpm]', 'lag_rpm']].head(3))"
   ]
  },
  {
   "cell_type": "code",
   "execution_count": 11,
   "id": "7145e337-01a5-4f8c-819f-9c7fa711cc37",
   "metadata": {},
   "outputs": [
    {
     "data": {
      "image/png": "[encoded data removed]",
      "text/plain": [
       "<Figure size 1000x600 with 2 Axes>"
      ]
     },
     "metadata": {},
     "output_type": "display_data"
    }
   ],
   "source": [
    "# Select engineered + original features\n",
    "features = ['temp_diff', 'power', 'wear_rate', 'machine_type', 'wear_bin',\n",
    "            'Air temperature [K]', 'Process temperature [K]', 'Torque [Nm]']\n",
    "\n",
    "# Correlation with target\n",
    "plt.figure(figsize=(10, 6))\n",
    "corr_matrix = data[features + ['Target']].corr(numeric_only=True)\n",
    "sns.heatmap(corr_matrix[['Target']].sort_values('Target', ascending=False), \n",
    "            annot=True, cmap='coolwarm')\n",
    "plt.title(\"Feature Correlation with Target\")\n",
    "plt.show()"
   ]
  },
  {
   "cell_type": "code",
   "execution_count": 12,
   "id": "c7f0a4a5-86a3-40e4-8441-e18d2f1bf9f1",
   "metadata": {},
   "outputs": [
    {
     "name": "stdout",
     "output_type": "stream",
     "text": [
      "Engineered data saved!\n"
     ]
    }
   ],
   "source": [
    "# Save for Week 5 modeling\n",
    "data.to_csv(\"engineered_data_week4.csv\", index=False)\n",
    "print(\"Engineered data saved!\")"
   ]
  },
  {
   "cell_type": "code",
   "execution_count": null,
   "id": "4e1e927e-e90c-4386-b87b-7fb43da06b2a",
   "metadata": {},
   "outputs": [],
   "source": []
  }
 ],
 "metadata": {
  "kernelspec": {
   "display_name": "Python 3 (ipykernel)",
   "language": "python",
   "name": "python3"
  },
  "language_info": {
   "codemirror_mode": {
    "name": "ipython",
    "version": 3
   },
   "file_extension": ".py",
   "mimetype": "text/x-python",
   "name": "python",
   "nbconvert_exporter": "python",
   "pygments_lexer": "ipython3",
   "version": "3.8.20"
  }
 },
 "nbformat": 4,
 "nbformat_minor": 5
}
