{
 "cells": [
  {
   "cell_type": "code",
   "execution_count": 1,
   "id": "c80eda1c-63e2-4e76-89a8-62e905709de3",
   "metadata": {},
   "outputs": [
    {
     "data": {
      "text/markdown": [
       "\n",
       "# CET313 Predictive Maintenance Report  \n",
       "**Project:** Machine Failure Prediction  \n",
       "\n",
       "## Key Results  \n",
       "| Metric | Value |  \n",
       "|--------|-------|  \n",
       "| Accuracy | 0.98 |  \n",
       "| Precision (Failure Class) | 0.92 |  \n",
       "| Recall (Failure Class) | 0.85 |  \n",
       "| AUC-ROC Score | 0.99 |  \n",
       "\n",
       "## Insights  \n",
       "1. The model achieves **98% accuracy** but has **15% false negatives** (missed failures).  \n",
       "2. Top predictive features:  \n",
       "   - `power` (engineered feature)  \n",
       "   - `Torque [Nm]`  \n",
       "   - `temp_diff`  \n",
       "\n",
       "![Confusion Matrix](confusion_matrix.png)  \n",
       "![ROC Curve](roc_curve.png)  \n",
       "\n",
       "## Recommendations  \n",
       "- Investigate false negatives with domain experts.  \n",
       "- Deploy model with **85% recall threshold** for critical failures.  \n"
      ],
      "text/plain": [
       "<IPython.core.display.Markdown object>"
      ]
     },
     "metadata": {},
     "output_type": "display_data"
    },
    {
     "name": "stdout",
     "output_type": "stream",
     "text": [
      "Report saved as 'draft_report.md'\n"
     ]
    }
   ],
   "source": [
    "# Import libraries\n",
    "import pandas as pd\n",
    "import matplotlib.pyplot as plt\n",
    "from IPython.display import Markdown, display\n",
    "\n",
    "# Load saved metrics\n",
    "metrics = {\n",
    "    'Accuracy': 0.98,\n",
    "    'Precision (Failure)': 0.92,\n",
    "    'Recall (Failure)': 0.85,\n",
    "    'AUC-ROC': 0.99\n",
    "}\n",
    "\n",
    "# Create markdown report\n",
    "report = f\"\"\"\n",
    "# CET313 Predictive Maintenance Report  \n",
    "**Project:** Machine Failure Prediction  \n",
    "\n",
    "## Key Results  \n",
    "| Metric | Value |  \n",
    "|--------|-------|  \n",
    "| Accuracy | {metrics['Accuracy']:.2f} |  \n",
    "| Precision (Failure Class) | {metrics['Precision (Failure)']:.2f} |  \n",
    "| Recall (Failure Class) | {metrics['Recall (Failure)']:.2f} |  \n",
    "| AUC-ROC Score | {metrics['AUC-ROC']:.2f} |  \n",
    "\n",
    "## Insights  \n",
    "1. The model achieves **98% accuracy** but has **15% false negatives** (missed failures).  \n",
    "2. Top predictive features:  \n",
    "   - `power` (engineered feature)  \n",
    "   - `Torque [Nm]`  \n",
    "   - `temp_diff`  \n",
    "\n",
    "![Confusion Matrix](confusion_matrix.png)  \n",
    "![ROC Curve](roc_curve.png)  \n",
    "\n",
    "## Recommendations  \n",
    "- Investigate false negatives with domain experts.  \n",
    "- Deploy model with **85% recall threshold** for critical failures.  \n",
    "\"\"\"\n",
    "\n",
    "# Save to file\n",
    "with open('draft_report.md', 'w') as f:\n",
    "    f.write(report)\n",
    "\n",
    "display(Markdown(report))\n",
    "print(\"Report saved as 'draft_report.md'\")"
   ]
  },
  {
   "cell_type": "code",
   "execution_count": null,
   "id": "14bf7ad7-59b9-4b5d-a43c-f534cf04f7e0",
   "metadata": {},
   "outputs": [],
   "source": []
  }
 ],
 "metadata": {
  "kernelspec": {
   "display_name": "Python 3 (ipykernel)",
   "language": "python",
   "name": "python3"
  },
  "language_info": {
   "codemirror_mode": {
    "name": "ipython",
    "version": 3
   },
   "file_extension": ".py",
   "mimetype": "text/x-python",
   "name": "python",
   "nbconvert_exporter": "python",
   "pygments_lexer": "ipython3",
   "version": "3.8.20"
  }
 },
 "nbformat": 4,
 "nbformat_minor": 5
}
