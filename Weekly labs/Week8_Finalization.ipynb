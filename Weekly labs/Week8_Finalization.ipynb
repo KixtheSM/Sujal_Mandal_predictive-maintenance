{
 "cells": [
  {
   "cell_type": "code",
   "execution_count": 1,
   "id": "844e4204-3214-4c31-8352-8a62a4d9fc36",
   "metadata": {},
   "outputs": [
    {
     "name": "stdout",
     "output_type": "stream",
     "text": [
      "Final Model Performance:\n",
      "\n",
      "              precision    recall  f1-score   support\n",
      "\n",
      "           0       1.00      1.00      1.00      9661\n",
      "           1       1.00      0.94      0.97       339\n",
      "\n",
      "    accuracy                           1.00     10000\n",
      "   macro avg       1.00      0.97      0.99     10000\n",
      "weighted avg       1.00      1.00      1.00     10000\n",
      "\n"
     ]
    }
   ],
   "source": [
    "import pandas as pd\n",
    "import joblib\n",
    "from sklearn.metrics import classification_report\n",
    "\n",
    "# Load saved artifacts\n",
    "final_model = joblib.load('best_rf_model.pkl')\n",
    "scaler = joblib.load('scaler.pkl')\n",
    "test_data = pd.read_csv('engineered_data_week4.csv')  # Use fresh data if available\n",
    "\n",
    "# Prepare test set\n",
    "X_test = test_data.drop(['UDI', 'Product ID', 'Target', 'Failure Type'], axis=1)\n",
    "X_test = pd.get_dummies(X_test, columns=['Type', 'machine_type', 'wear_bin'])\n",
    "X_test_scaled = scaler.transform(X_test)\n",
    "y_test = test_data['Target']\n",
    "\n",
    "# Final predictions\n",
    "final_pred = final_model.predict(X_test_scaled)\n",
    "print(\"Final Model Performance:\\n\")\n",
    "print(classification_report(y_test, final_pred))"
   ]
  },
  {
   "cell_type": "code",
   "execution_count": null,
   "id": "ae68e17d-a5c6-4151-9562-00e2970fc4f8",
   "metadata": {},
   "outputs": [],
   "source": []
  }
 ],
 "metadata": {
  "kernelspec": {
   "display_name": "Python 3 (ipykernel)",
   "language": "python",
   "name": "python3"
  },
  "language_info": {
   "codemirror_mode": {
    "name": "ipython",
    "version": 3
   },
   "file_extension": ".py",
   "mimetype": "text/x-python",
   "name": "python",
   "nbconvert_exporter": "python",
   "pygments_lexer": "ipython3",
   "version": "3.8.20"
  }
 },
 "nbformat": 4,
 "nbformat_minor": 5
}
